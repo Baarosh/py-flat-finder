{
 "cells": [
  {
   "cell_type": "code",
   "execution_count": 1,
   "metadata": {},
   "outputs": [],
   "source": [
    "import requests as req\n",
    "from bs4 import BeautifulSoup as bs\n",
    "import datetime\n",
    "from os import environ"
   ]
  },
  {
   "cell_type": "code",
   "execution_count": 3,
   "metadata": {},
   "outputs": [
    {
     "name": "stdout",
     "output_type": "stream",
     "text": [
      "['766934279']\n"
     ]
    }
   ],
   "source": [
    "url = 'https://www.olx.pl/nieruchomosci/mieszkania/wynajem/wroclaw/?search%5Bfilter_float_price%3Ato%5D=3000&search%5Bfilter_enum_rooms%5D%5B0%5D=two&search%5Bprivate_business%5D=private&search%5Border%5D=created_at%3Adesc&view=galleryWide'\n",
    "response = req.get(url)\n",
    "response_to_soup = bs(response.content, 'html.parser')\n",
    "flat_list = response_to_soup.find(id='innerLayout').find(id='listContainer').find(id='body-container').find(id='gallerywide').find_all('li', {'class': 'wrap'})\n",
    "flat_list_id = []\n",
    "iteration = 0\n",
    "\n",
    "\n",
    "for flat in flat_list:\n",
    "\n",
    "    flat_id = flat.get('data-id')\n",
    "    flat_title = flat.find('div', {'class': 'tcenter'}).a['title']\n",
    "    flat_url = flat.find('div', {'class': 'tcenter'}).a['href']\n",
    "    flat_fetch_date = datetime.datetime.now()\n",
    "\n",
    "    flat_price = flat.find('div', {'class': 'price'})\n",
    "    flat_price_class = flat_price.get('class')\n",
    "\n",
    "    if len(flat_price_class) == 1:\n",
    "        flat_price = str(flat_price.string).strip().split(' ')\n",
    "        flat_price = f'{flat_price[0]}{flat_price[1]}'\n",
    "    else:\n",
    "        flat_price = flat_price.get_text().strip().split(' ')\n",
    "        flat_price = f'{flat_price[0]}{flat_price[1]}'\n",
    "\n",
    "    if iteration == 0:\n",
    "        flat_list_id.append(flat_id)\n",
    "\n",
    "    if flat_id not in flat_list_id and iteration != 0:\n",
    "        pass\n",
    "\n",
    "    iteration+=1\n",
    "\n",
    "print(flat_list_id)\n",
    "\n",
    "\n",
    "\n",
    "\n",
    "\n"
   ]
  }
 ],
 "metadata": {
  "kernelspec": {
   "display_name": "Python 3.10.0 64-bit",
   "language": "python",
   "name": "python3"
  },
  "language_info": {
   "codemirror_mode": {
    "name": "ipython",
    "version": 3
   },
   "file_extension": ".py",
   "mimetype": "text/x-python",
   "name": "python",
   "nbconvert_exporter": "python",
   "pygments_lexer": "ipython3",
   "version": "3.10.0"
  },
  "orig_nbformat": 4,
  "vscode": {
   "interpreter": {
    "hash": "2572f36476536d7986c4365c9b2fdc525b58ba13cd5f13b25fc65ded0f14e34c"
   }
  }
 },
 "nbformat": 4,
 "nbformat_minor": 2
}
