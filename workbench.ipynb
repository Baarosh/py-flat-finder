{
 "cells": [
  {
   "cell_type": "code",
   "execution_count": 10,
   "metadata": {},
   "outputs": [
    {
     "data": {
      "text/plain": [
       "True"
      ]
     },
     "execution_count": 10,
     "metadata": {},
     "output_type": "execute_result"
    }
   ],
   "source": [
    "import requests as req\n",
    "from bs4 import BeautifulSoup as bs\n",
    "import datetime\n",
    "import os\n",
    "from dotenv import load_dotenv\n",
    "load_dotenv()"
   ]
  },
  {
   "cell_type": "code",
   "execution_count": 11,
   "metadata": {},
   "outputs": [
    {
     "name": "stderr",
     "output_type": "stream",
     "text": [
      "Logging in norbert.lipinski96@gmail.com...\n",
      "Attempt #1 failed, retrying\n",
      "Traceback (most recent call last):\n",
      "  File \"c:\\Users\\Norbert\\AppData\\Local\\Programs\\Python\\Python310\\lib\\site-packages\\fbchat\\_client.py\", line 205, in login\n",
      "    self._state = State.login(\n",
      "  File \"c:\\Users\\Norbert\\AppData\\Local\\Programs\\Python\\Python310\\lib\\site-packages\\fbchat\\_state.py\", line 153, in login\n",
      "    raise _exception.FBchatUserError(\n",
      "fbchat._exception.FBchatUserError: Login failed. Check email/password. (Failed on url: https://m.facebook.com/login.php?login_attempt=1)\n",
      "Attempt #2 failed, retrying\n",
      "Traceback (most recent call last):\n",
      "  File \"c:\\Users\\Norbert\\AppData\\Local\\Programs\\Python\\Python310\\lib\\site-packages\\fbchat\\_client.py\", line 205, in login\n",
      "    self._state = State.login(\n",
      "  File \"c:\\Users\\Norbert\\AppData\\Local\\Programs\\Python\\Python310\\lib\\site-packages\\fbchat\\_state.py\", line 153, in login\n",
      "    raise _exception.FBchatUserError(\n",
      "fbchat._exception.FBchatUserError: Login failed. Check email/password. (Failed on url: https://m.facebook.com/login.php?login_attempt=1)\n",
      "Attempt #3 failed, retrying\n",
      "Traceback (most recent call last):\n",
      "  File \"c:\\Users\\Norbert\\AppData\\Local\\Programs\\Python\\Python310\\lib\\site-packages\\fbchat\\_client.py\", line 205, in login\n",
      "    self._state = State.login(\n",
      "  File \"c:\\Users\\Norbert\\AppData\\Local\\Programs\\Python\\Python310\\lib\\site-packages\\fbchat\\_state.py\", line 153, in login\n",
      "    raise _exception.FBchatUserError(\n",
      "fbchat._exception.FBchatUserError: Login failed. Check email/password. (Failed on url: https://m.facebook.com/login.php?login_attempt=1)\n",
      "Attempt #4 failed, retrying\n",
      "Traceback (most recent call last):\n",
      "  File \"c:\\Users\\Norbert\\AppData\\Local\\Programs\\Python\\Python310\\lib\\site-packages\\fbchat\\_client.py\", line 205, in login\n",
      "    self._state = State.login(\n",
      "  File \"c:\\Users\\Norbert\\AppData\\Local\\Programs\\Python\\Python310\\lib\\site-packages\\fbchat\\_state.py\", line 153, in login\n",
      "    raise _exception.FBchatUserError(\n",
      "fbchat._exception.FBchatUserError: Login failed. Check email/password. (Failed on url: https://m.facebook.com/login.php?login_attempt=1)\n"
     ]
    },
    {
     "ename": "FBchatUserError",
     "evalue": "Login failed. Check email/password. (Failed on url: https://m.facebook.com/login.php?login_attempt=1)",
     "output_type": "error",
     "traceback": [
      "\u001b[1;31m---------------------------------------------------------------------------\u001b[0m",
      "\u001b[1;31mFBchatUserError\u001b[0m                           Traceback (most recent call last)",
      "\u001b[1;32mc:\\Users\\Norbert\\Documents\\GitHub\\py-flat-finder\\workbench.ipynb Cell 2'\u001b[0m in \u001b[0;36m<cell line: 13>\u001b[1;34m()\u001b[0m\n\u001b[0;32m      <a href='vscode-notebook-cell:/c%3A/Users/Norbert/Documents/GitHub/py-flat-finder/workbench.ipynb#ch0000001?line=5'>6</a>\u001b[0m iteration \u001b[39m=\u001b[39m \u001b[39m0\u001b[39m\n\u001b[0;32m      <a href='vscode-notebook-cell:/c%3A/Users/Norbert/Documents/GitHub/py-flat-finder/workbench.ipynb#ch0000001?line=7'>8</a>\u001b[0m \u001b[39m# client = Client(os.getenv('EMAIL'), os.getenv('PASSWORD'))\u001b[39;00m\n\u001b[0;32m      <a href='vscode-notebook-cell:/c%3A/Users/Norbert/Documents/GitHub/py-flat-finder/workbench.ipynb#ch0000001?line=8'>9</a>\u001b[0m \u001b[39m# if not client.isLoggedIn():\u001b[39;00m\n\u001b[0;32m     <a href='vscode-notebook-cell:/c%3A/Users/Norbert/Documents/GitHub/py-flat-finder/workbench.ipynb#ch0000001?line=9'>10</a>\u001b[0m \u001b[39m#     client.login(os.getenv('EMAIL'), os.getenv('PASSWORD'))\u001b[39;00m\n\u001b[1;32m---> <a href='vscode-notebook-cell:/c%3A/Users/Norbert/Documents/GitHub/py-flat-finder/workbench.ipynb#ch0000001?line=12'>13</a>\u001b[0m client \u001b[39m=\u001b[39m Client(\u001b[39m'\u001b[39;49m\u001b[39mnorbert.lipinski96@gmail.com\u001b[39;49m\u001b[39m'\u001b[39;49m, \u001b[39m'\u001b[39;49m\u001b[39mBwib8sa2bwib8sa2!fb\u001b[39;49m\u001b[39m'\u001b[39;49m)\n\u001b[0;32m     <a href='vscode-notebook-cell:/c%3A/Users/Norbert/Documents/GitHub/py-flat-finder/workbench.ipynb#ch0000001?line=13'>14</a>\u001b[0m \u001b[39m# if not client.isLoggedIn():\u001b[39;00m\n\u001b[0;32m     <a href='vscode-notebook-cell:/c%3A/Users/Norbert/Documents/GitHub/py-flat-finder/workbench.ipynb#ch0000001?line=14'>15</a>\u001b[0m \u001b[39m#     client.login('norbert.lipinski96@gmail.com','Bwib8sa2bwib8sa2!fb')\u001b[39;00m\n\u001b[0;32m     <a href='vscode-notebook-cell:/c%3A/Users/Norbert/Documents/GitHub/py-flat-finder/workbench.ipynb#ch0000001?line=16'>17</a>\u001b[0m client\u001b[39m.\u001b[39msend(Message(text\u001b[39m=\u001b[39m\u001b[39m'\u001b[39m\u001b[39mWiadomosc od koteczka wyslana z bota muhaha :*\u001b[39m\u001b[39m'\u001b[39m), thread_id\u001b[39m=\u001b[39m\u001b[39m'\u001b[39m\u001b[39m100004435502825\u001b[39m\u001b[39m'\u001b[39m, thread_type\u001b[39m=\u001b[39mThreadType\u001b[39m.\u001b[39mUSER)\n",
      "File \u001b[1;32mc:\\Users\\Norbert\\AppData\\Local\\Programs\\Python\\Python310\\lib\\site-packages\\fbchat\\_client.py:103\u001b[0m, in \u001b[0;36mClient.__init__\u001b[1;34m(self, email, password, user_agent, max_tries, session_cookies, logging_level)\u001b[0m\n\u001b[0;32m     97\u001b[0m \u001b[39m# If session cookies aren't set, not properly loaded or gives us an invalid session, then do the login\u001b[39;00m\n\u001b[0;32m     98\u001b[0m \u001b[39mif\u001b[39;00m (\n\u001b[0;32m     99\u001b[0m     \u001b[39mnot\u001b[39;00m session_cookies\n\u001b[0;32m    100\u001b[0m     \u001b[39mor\u001b[39;00m \u001b[39mnot\u001b[39;00m \u001b[39mself\u001b[39m\u001b[39m.\u001b[39msetSession(session_cookies, user_agent\u001b[39m=\u001b[39muser_agent)\n\u001b[0;32m    101\u001b[0m     \u001b[39mor\u001b[39;00m \u001b[39mnot\u001b[39;00m \u001b[39mself\u001b[39m\u001b[39m.\u001b[39misLoggedIn()\n\u001b[0;32m    102\u001b[0m ):\n\u001b[1;32m--> 103\u001b[0m     \u001b[39mself\u001b[39;49m\u001b[39m.\u001b[39;49mlogin(email, password, max_tries, user_agent\u001b[39m=\u001b[39;49muser_agent)\n",
      "File \u001b[1;32mc:\\Users\\Norbert\\AppData\\Local\\Programs\\Python\\Python310\\lib\\site-packages\\fbchat\\_client.py:205\u001b[0m, in \u001b[0;36mClient.login\u001b[1;34m(self, email, password, max_tries, user_agent)\u001b[0m\n\u001b[0;32m    203\u001b[0m \u001b[39mfor\u001b[39;00m i \u001b[39min\u001b[39;00m \u001b[39mrange\u001b[39m(\u001b[39m1\u001b[39m, max_tries \u001b[39m+\u001b[39m \u001b[39m1\u001b[39m):\n\u001b[0;32m    204\u001b[0m     \u001b[39mtry\u001b[39;00m:\n\u001b[1;32m--> 205\u001b[0m         \u001b[39mself\u001b[39m\u001b[39m.\u001b[39m_state \u001b[39m=\u001b[39m State\u001b[39m.\u001b[39;49mlogin(\n\u001b[0;32m    206\u001b[0m             email,\n\u001b[0;32m    207\u001b[0m             password,\n\u001b[0;32m    208\u001b[0m             on_2fa_callback\u001b[39m=\u001b[39;49m\u001b[39mself\u001b[39;49m\u001b[39m.\u001b[39;49mon2FACode,\n\u001b[0;32m    209\u001b[0m             user_agent\u001b[39m=\u001b[39;49muser_agent,\n\u001b[0;32m    210\u001b[0m         )\n\u001b[0;32m    211\u001b[0m         \u001b[39mself\u001b[39m\u001b[39m.\u001b[39m_uid \u001b[39m=\u001b[39m \u001b[39mself\u001b[39m\u001b[39m.\u001b[39m_state\u001b[39m.\u001b[39muser_id\n\u001b[0;32m    212\u001b[0m     \u001b[39mexcept\u001b[39;00m \u001b[39mException\u001b[39;00m:\n",
      "File \u001b[1;32mc:\\Users\\Norbert\\AppData\\Local\\Programs\\Python\\Python310\\lib\\site-packages\\fbchat\\_state.py:153\u001b[0m, in \u001b[0;36mState.login\u001b[1;34m(cls, email, password, on_2fa_callback, user_agent)\u001b[0m\n\u001b[0;32m    151\u001b[0m     \u001b[39mreturn\u001b[39;00m \u001b[39mcls\u001b[39m\u001b[39m.\u001b[39mfrom_session(session\u001b[39m=\u001b[39msession)\n\u001b[0;32m    152\u001b[0m \u001b[39melse\u001b[39;00m:\n\u001b[1;32m--> 153\u001b[0m     \u001b[39mraise\u001b[39;00m _exception\u001b[39m.\u001b[39mFBchatUserError(\n\u001b[0;32m    154\u001b[0m         \u001b[39m\"\u001b[39m\u001b[39mLogin failed. Check email/password. \u001b[39m\u001b[39m\"\u001b[39m\n\u001b[0;32m    155\u001b[0m         \u001b[39m\"\u001b[39m\u001b[39m(Failed on url: \u001b[39m\u001b[39m{}\u001b[39;00m\u001b[39m)\u001b[39m\u001b[39m\"\u001b[39m\u001b[39m.\u001b[39mformat(r\u001b[39m.\u001b[39murl)\n\u001b[0;32m    156\u001b[0m     )\n",
      "\u001b[1;31mFBchatUserError\u001b[0m: Login failed. Check email/password. (Failed on url: https://m.facebook.com/login.php?login_attempt=1)"
     ]
    }
   ],
   "source": [
    "url = 'https://www.olx.pl/nieruchomosci/mieszkania/wynajem/wroclaw/?search%5Bfilter_float_price%3Ato%5D=3000&search%5Bfilter_enum_rooms%5D%5B0%5D=two&search%5Bprivate_business%5D=private&search%5Border%5D=created_at%3Adesc&view=galleryWide'\n",
    "response = req.get(url)\n",
    "response_to_soup = bs(response.content, 'html.parser')\n",
    "flat_list = response_to_soup.find(id='innerLayout').find(id='listContainer').find(id='body-container').find(id='gallerywide').find_all('li', {'class': 'wrap'})\n",
    "flat_list_id = []\n",
    "iteration = 0\n",
    "\n",
    "\n",
    "# for flat in flat_list:\n",
    "\n",
    "#     flat_id = flat.get('data-id')\n",
    "#     flat_title = flat.find('div', {'class': 'tcenter'}).a['title']\n",
    "#     flat_url = flat.find('div', {'class': 'tcenter'}).a['href']\n",
    "#     flat_fetch_date = datetime.datetime.now()\n",
    "\n",
    "#     flat_price = flat.find('div', {'class': 'price'})\n",
    "#     flat_price_class = flat_price.get('class')\n",
    "\n",
    "#     if len(flat_price_class) == 1:\n",
    "#         flat_price = str(flat_price.string).strip().split(' ')\n",
    "#         flat_price = f'{flat_price[0]}{flat_price[1]}'\n",
    "#     else:\n",
    "#         flat_price = flat_price.get_text().strip().split(' ')\n",
    "#         flat_price = f'{flat_price[0]}{flat_price[1]}'\n",
    "\n",
    "#     if iteration == 0:\n",
    "#         flat_list_id.append(flat_id)\n",
    "\n",
    "#     if flat_id not in flat_list_id and iteration != 0:\n",
    "#         pass\n",
    "\n",
    "#     iteration+=1\n",
    "\n",
    "\n",
    "\n",
    "\n",
    "\n"
   ]
  }
 ],
 "metadata": {
  "kernelspec": {
   "display_name": "Python 3.10.0 64-bit",
   "language": "python",
   "name": "python3"
  },
  "language_info": {
   "codemirror_mode": {
    "name": "ipython",
    "version": 3
   },
   "file_extension": ".py",
   "mimetype": "text/x-python",
   "name": "python",
   "nbconvert_exporter": "python",
   "pygments_lexer": "ipython3",
   "version": "3.10.0"
  },
  "orig_nbformat": 4,
  "vscode": {
   "interpreter": {
    "hash": "2572f36476536d7986c4365c9b2fdc525b58ba13cd5f13b25fc65ded0f14e34c"
   }
  }
 },
 "nbformat": 4,
 "nbformat_minor": 2
}
